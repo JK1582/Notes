{
 "cells": [
  {
   "cell_type": "code",
   "execution_count": null,
   "metadata": {},
   "outputs": [],
   "source": [
    "for (int x : array)\n",
    "    int y = x+1;"
   ]
  },
  {
   "cell_type": "code",
   "execution_count": null,
   "metadata": {},
   "outputs": [],
   "source": [
    "char []arr= name.toCharArray();\n",
    "int[] intArray = new int[20];\n",
    "int[] intArray = new int[]{ 1,2,3,4,5,6,7,8,9,10};\n",
    "intArray[1]=1;\n",
    "Arrays.sort(intArray);\n",
    "col = image.length;\n",
    "row =image[0].length;\n",
    "if (Arrays.binarySearch(inputArray, pos) >= 0){\n",
    "int rows= matrix.length;\n",
    "int cols=matrix[0].length;\n",
    "int[][] mine= new int [rows][cols];\n",
    "arr[i]= (char)(arr[i] + 1);  \n",
    "String.valueOf(Arr)"
   ]
  },
  {
   "cell_type": "code",
   "execution_count": null,
   "metadata": {},
   "outputs": [],
   "source": [
    "String[] arrOfStr = inputString.split(\"\\\\.\");\n",
    "String nums = s.split(\"(?=\\\\D)\")[0];\n",
    "Double d = Double.valueOf(nums);"
   ]
  },
  {
   "cell_type": "code",
   "execution_count": null,
   "metadata": {},
   "outputs": [],
   "source": [
    "ArrayList<String> cars = new ArrayList<String>();\n",
    "cars.add(\"ddd\");\n",
    "c"
   ]
  },
  {
   "cell_type": "code",
   "execution_count": null,
   "metadata": {},
   "outputs": [],
   "source": [
    "Math.abs(arr[i]-arr[i-1])\n",
    "Math.max(two numbers)"
   ]
  }
 ],
 "metadata": {
  "interpreter": {
   "hash": "31f2aee4e71d21fbe5cf8b01ff0e069b9275f58929596ceb00d14d90e3e16cd6"
  },
  "kernelspec": {
   "display_name": "Python 3.8.9 64-bit",
   "language": "python",
   "name": "python3"
  },
  "language_info": {
   "name": "python",
   "version": "3.8.9"
  },
  "orig_nbformat": 4
 },
 "nbformat": 4,
 "nbformat_minor": 2
}
