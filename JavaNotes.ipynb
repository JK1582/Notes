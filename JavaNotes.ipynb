{
 "cells": [
  {
   "cell_type": "code",
   "execution_count": null,
   "metadata": {},
   "outputs": [],
   "source": [
    "for (int x : array)\n",
    "    int y = x+1;"
   ]
  },
  {
   "cell_type": "code",
   "execution_count": null,
   "metadata": {},
   "outputs": [],
   "source": [
    "char []arr= name.toCharArray();\n",
    " if (Character.isDigit(c))\n",
    "int[] intArray = new int[20];\n",
    "int[] intArray = new int[]{ 1,2,3,4,5,6,7,8,9,10};\n",
    "Arrays.sort(intArray);\n",
    "Array.length(intArray-1)\n",
    "List<String> myList = new ArrayList<String>(Arrays.asList(s.split(\"\")));\n",
    "inkedList<String> ll = new LinkedList<String>();\n",
    "intArray[1]=1;\n",
    "Arrays.sort(intArray);\n",
    "col = image.length;\n",
    "row =image[0].length;\n",
    "if (Arrays.binarySearch(inputArray, pos) >= 0){\n",
    "int rows= matrix.length;\n",
    "int cols=matrix[0].length;\n",
    "int[][] mine= new int [rows][cols];\n",
    "arr[i]= (char)(arr[i] + 1);  \n",
    "String.valueOf(Arr)"
   ]
  },
  {
   "cell_type": "code",
   "execution_count": null,
   "metadata": {},
   "outputs": [],
   "source": [
    "String[] arrOfStr = inputString.split(\"\\\\.\");\n",
    "String nums = s.split(\"(?=\\\\D)\")[0];\n",
    "nums.charAt(0)\n",
    "Character.isLetter(c)\n",
    "Double d = Double.valueOf(nums);"
   ]
  },
  {
   "cell_type": "code",
   "execution_count": null,
   "metadata": {},
   "outputs": [],
   "source": [
    "ArrayList<String> cars = new ArrayList<String>();\n",
    "ArrayList<String> check= loadStrings(inputArray);\n",
    "cars.add(\"ddd\");\n",
    "cars.get(0)\n"
   ]
  },
  {
   "cell_type": "code",
   "execution_count": null,
   "metadata": {},
   "outputs": [],
   "source": [
    "Math.abs(arr[i]-arr[i-1])\n",
    "Math.max(two numbers)\n",
    "String substring(int beginIndex, int endIndex)"
   ]
  },
  {
   "cell_type": "code",
   "execution_count": null,
   "metadata": {},
   "outputs": [],
   "source": [
    "  public ListNode sortList(ListNode head) {\n",
    "        ListNode current = head;\n",
    "        int length = 0;\n",
    "        while(current!=null){\n",
    "            length++;\n",
    "            current = current.next;\n",
    "        }\n",
    "        current = head;\n",
    "        int[] arr = new int[length];\n",
    "        int i = 0;\n",
    "        while(current!=null){\n",
    "            arr[i] = current.val;\n",
    "            current = current.next;\n",
    "            i++;\n",
    "        }\n",
    "        Arrays.sort(arr);\n",
    "        current = head;\n",
    "        i = 0;\n",
    "        while(current!=null){\n",
    "            current.val = arr[i];\n",
    "            i++;\n",
    "            current = current.next;\n",
    "        }\n",
    "        return head;\n",
    "    }\n",
    "}"
   ]
  }
 ],
 "metadata": {
  "interpreter": {
   "hash": "31f2aee4e71d21fbe5cf8b01ff0e069b9275f58929596ceb00d14d90e3e16cd6"
  },
  "kernelspec": {
   "display_name": "Python 3.8.9 64-bit",
   "language": "python",
   "name": "python3"
  },
  "language_info": {
   "name": "python",
   "version": "3.8.9"
  },
  "orig_nbformat": 4
 },
 "nbformat": 4,
 "nbformat_minor": 2
}
